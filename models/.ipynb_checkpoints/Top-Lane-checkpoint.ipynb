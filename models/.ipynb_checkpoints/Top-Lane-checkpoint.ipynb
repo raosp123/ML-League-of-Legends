{
 "cells": [
  {
   "cell_type": "code",
   "execution_count": 97,
   "metadata": {},
   "outputs": [],
   "source": [
    "import pandas as pd \n",
    "import numpy as np \n",
    "from sklearn.datasets import make_classification\n",
    "from sklearn.linear_model import LogisticRegression\n",
    "import matplotlib.pyplot as plot\n",
    "from sklearn.model_selection import train_test_split\n",
    "from sklearn.model_selection import cross_val_score\n",
    "from sklearn.metrics import confusion_matrix\n",
    "from sklearn.metrics import classification_report\n",
    "from sklearn.dummy import DummyClassifier\n",
    "from sklearn.metrics import roc_curve\n",
    "from sklearn.svm import LinearSVC\n",
    "from sklearn.preprocessing import StandardScaler\n",
    "import warnings\n"
   ]
  },
  {
   "cell_type": "code",
   "execution_count": 98,
   "metadata": {},
   "outputs": [],
   "source": [
    "warnings.filterwarnings('ignore')\n",
    "\n",
    "df = pd.read_csv('../league_dataset_60k.csv')\n",
    "grouped = df.groupby(df.teamPosition)\n",
    "column_keys = df.keys()\n",
    "scaler = StandardScaler()\n",
    "#pop the string label and win output before normalisation\n",
    "teampos = df.pop(\"teamPosition\")\n",
    "win = df.pop(\"win\")\n",
    "\n",
    "df = scaler.fit_transform(df)\n",
    "\n",
    "df = np.column_stack((teampos, df))\n",
    "df = pd.DataFrame(np.column_stack((df, win)), columns=column_keys)\n",
    "\n",
    "\n",
    "data_top = grouped.get_group(\"TOP\")"
   ]
  },
  {
   "cell_type": "markdown",
   "metadata": {},
   "source": [
    "## A Peek inside the Datasets"
   ]
  },
  {
   "cell_type": "code",
   "execution_count": 99,
   "metadata": {},
   "outputs": [
    {
     "data": {
      "text/html": [
       "<div>\n",
       "<style scoped>\n",
       "    .dataframe tbody tr th:only-of-type {\n",
       "        vertical-align: middle;\n",
       "    }\n",
       "\n",
       "    .dataframe tbody tr th {\n",
       "        vertical-align: top;\n",
       "    }\n",
       "\n",
       "    .dataframe thead th {\n",
       "        text-align: right;\n",
       "    }\n",
       "</style>\n",
       "<table border=\"1\" class=\"dataframe\">\n",
       "  <thead>\n",
       "    <tr style=\"text-align: right;\">\n",
       "      <th></th>\n",
       "      <th>12AssistStreakCount</th>\n",
       "      <th>abilityUses</th>\n",
       "      <th>acesBefore15Minutes</th>\n",
       "      <th>alliedJungleMonsterKills</th>\n",
       "      <th>baronTakedowns</th>\n",
       "      <th>blastConeOppositeOpponentCount</th>\n",
       "      <th>bountyGold</th>\n",
       "      <th>buffsStolen</th>\n",
       "      <th>completeSupportQuestInTime</th>\n",
       "      <th>controlWardsPlaced</th>\n",
       "      <th>...</th>\n",
       "      <th>trueDamageDealtToChampions</th>\n",
       "      <th>trueDamageTaken</th>\n",
       "      <th>turretKills</th>\n",
       "      <th>turretsLost</th>\n",
       "      <th>unrealKills</th>\n",
       "      <th>visionClearedPings</th>\n",
       "      <th>visionScore</th>\n",
       "      <th>visionWardsBoughtInGame</th>\n",
       "      <th>wardsKilled</th>\n",
       "      <th>wardsPlaced</th>\n",
       "    </tr>\n",
       "  </thead>\n",
       "  <tbody>\n",
       "    <tr>\n",
       "      <th>0</th>\n",
       "      <td>0</td>\n",
       "      <td>226</td>\n",
       "      <td>0</td>\n",
       "      <td>16.0</td>\n",
       "      <td>0</td>\n",
       "      <td>0</td>\n",
       "      <td>0</td>\n",
       "      <td>0</td>\n",
       "      <td>0</td>\n",
       "      <td>1</td>\n",
       "      <td>...</td>\n",
       "      <td>7780</td>\n",
       "      <td>5811</td>\n",
       "      <td>2</td>\n",
       "      <td>7</td>\n",
       "      <td>0</td>\n",
       "      <td>0</td>\n",
       "      <td>9</td>\n",
       "      <td>1</td>\n",
       "      <td>0</td>\n",
       "      <td>6</td>\n",
       "    </tr>\n",
       "    <tr>\n",
       "      <th>5</th>\n",
       "      <td>0</td>\n",
       "      <td>189</td>\n",
       "      <td>0</td>\n",
       "      <td>8.0</td>\n",
       "      <td>0</td>\n",
       "      <td>0</td>\n",
       "      <td>0</td>\n",
       "      <td>1</td>\n",
       "      <td>0</td>\n",
       "      <td>0</td>\n",
       "      <td>...</td>\n",
       "      <td>5942</td>\n",
       "      <td>5275</td>\n",
       "      <td>2</td>\n",
       "      <td>6</td>\n",
       "      <td>0</td>\n",
       "      <td>0</td>\n",
       "      <td>18</td>\n",
       "      <td>0</td>\n",
       "      <td>0</td>\n",
       "      <td>11</td>\n",
       "    </tr>\n",
       "    <tr>\n",
       "      <th>10</th>\n",
       "      <td>0</td>\n",
       "      <td>248</td>\n",
       "      <td>0</td>\n",
       "      <td>0.0</td>\n",
       "      <td>0</td>\n",
       "      <td>0</td>\n",
       "      <td>0</td>\n",
       "      <td>0</td>\n",
       "      <td>0</td>\n",
       "      <td>1</td>\n",
       "      <td>...</td>\n",
       "      <td>84</td>\n",
       "      <td>3643</td>\n",
       "      <td>2</td>\n",
       "      <td>9</td>\n",
       "      <td>0</td>\n",
       "      <td>0</td>\n",
       "      <td>19</td>\n",
       "      <td>1</td>\n",
       "      <td>0</td>\n",
       "      <td>6</td>\n",
       "    </tr>\n",
       "    <tr>\n",
       "      <th>15</th>\n",
       "      <td>0</td>\n",
       "      <td>151</td>\n",
       "      <td>0</td>\n",
       "      <td>0.0</td>\n",
       "      <td>1</td>\n",
       "      <td>0</td>\n",
       "      <td>0</td>\n",
       "      <td>0</td>\n",
       "      <td>0</td>\n",
       "      <td>0</td>\n",
       "      <td>...</td>\n",
       "      <td>1192</td>\n",
       "      <td>150</td>\n",
       "      <td>5</td>\n",
       "      <td>3</td>\n",
       "      <td>0</td>\n",
       "      <td>0</td>\n",
       "      <td>17</td>\n",
       "      <td>0</td>\n",
       "      <td>1</td>\n",
       "      <td>9</td>\n",
       "    </tr>\n",
       "    <tr>\n",
       "      <th>20</th>\n",
       "      <td>0</td>\n",
       "      <td>334</td>\n",
       "      <td>0</td>\n",
       "      <td>4.5</td>\n",
       "      <td>0</td>\n",
       "      <td>0</td>\n",
       "      <td>150</td>\n",
       "      <td>0</td>\n",
       "      <td>0</td>\n",
       "      <td>1</td>\n",
       "      <td>...</td>\n",
       "      <td>7298</td>\n",
       "      <td>2826</td>\n",
       "      <td>2</td>\n",
       "      <td>11</td>\n",
       "      <td>0</td>\n",
       "      <td>0</td>\n",
       "      <td>25</td>\n",
       "      <td>2</td>\n",
       "      <td>1</td>\n",
       "      <td>11</td>\n",
       "    </tr>\n",
       "  </tbody>\n",
       "</table>\n",
       "<p>5 rows × 185 columns</p>\n",
       "</div>"
      ],
      "text/plain": [
       "    12AssistStreakCount  abilityUses  acesBefore15Minutes  \\\n",
       "0                     0          226                    0   \n",
       "5                     0          189                    0   \n",
       "10                    0          248                    0   \n",
       "15                    0          151                    0   \n",
       "20                    0          334                    0   \n",
       "\n",
       "    alliedJungleMonsterKills  baronTakedowns  blastConeOppositeOpponentCount  \\\n",
       "0                       16.0               0                               0   \n",
       "5                        8.0               0                               0   \n",
       "10                       0.0               0                               0   \n",
       "15                       0.0               1                               0   \n",
       "20                       4.5               0                               0   \n",
       "\n",
       "    bountyGold  buffsStolen  completeSupportQuestInTime  controlWardsPlaced  \\\n",
       "0            0            0                           0                   1   \n",
       "5            0            1                           0                   0   \n",
       "10           0            0                           0                   1   \n",
       "15           0            0                           0                   0   \n",
       "20         150            0                           0                   1   \n",
       "\n",
       "    ...  trueDamageDealtToChampions  trueDamageTaken  turretKills  \\\n",
       "0   ...                        7780             5811            2   \n",
       "5   ...                        5942             5275            2   \n",
       "10  ...                          84             3643            2   \n",
       "15  ...                        1192              150            5   \n",
       "20  ...                        7298             2826            2   \n",
       "\n",
       "    turretsLost  unrealKills  visionClearedPings  visionScore  \\\n",
       "0             7            0                   0            9   \n",
       "5             6            0                   0           18   \n",
       "10            9            0                   0           19   \n",
       "15            3            0                   0           17   \n",
       "20           11            0                   0           25   \n",
       "\n",
       "    visionWardsBoughtInGame  wardsKilled  wardsPlaced  \n",
       "0                         1            0            6  \n",
       "5                         0            0           11  \n",
       "10                        1            0            6  \n",
       "15                        0            1            9  \n",
       "20                        2            1           11  \n",
       "\n",
       "[5 rows x 185 columns]"
      ]
     },
     "execution_count": 99,
     "metadata": {},
     "output_type": "execute_result"
    }
   ],
   "source": [
    "data_top.head(5)"
   ]
  },
  {
   "cell_type": "markdown",
   "metadata": {},
   "source": [
    "# Feature selection"
   ]
  },
  {
   "cell_type": "markdown",
   "metadata": {},
   "source": [
    "## Feature importance logistic regression"
   ]
  },
  {
   "cell_type": "code",
   "execution_count": 104,
   "metadata": {},
   "outputs": [
    {
     "ename": "AttributeError",
     "evalue": "'DataFrame' object has no attribute 'win'",
     "output_type": "error",
     "traceback": [
      "\u001b[1;31m---------------------------------------------------------------------------\u001b[0m",
      "\u001b[1;31mAttributeError\u001b[0m                            Traceback (most recent call last)",
      "\u001b[1;32m<ipython-input-104-3a76acbfa0fa>\u001b[0m in \u001b[0;36m<module>\u001b[1;34m\u001b[0m\n\u001b[0;32m      1\u001b[0m \u001b[1;31m# define dataset\u001b[0m\u001b[1;33m\u001b[0m\u001b[1;33m\u001b[0m\u001b[1;33m\u001b[0m\u001b[0m\n\u001b[1;32m----> 2\u001b[1;33m \u001b[0my\u001b[0m \u001b[1;33m=\u001b[0m \u001b[0mdata_top\u001b[0m\u001b[1;33m.\u001b[0m\u001b[0mwin\u001b[0m\u001b[1;33m.\u001b[0m\u001b[0mastype\u001b[0m\u001b[1;33m(\u001b[0m\u001b[1;34m'int'\u001b[0m\u001b[1;33m)\u001b[0m\u001b[1;33m\u001b[0m\u001b[1;33m\u001b[0m\u001b[0m\n\u001b[0m\u001b[0;32m      3\u001b[0m \u001b[0mX\u001b[0m \u001b[1;33m=\u001b[0m \u001b[0mdata_top\u001b[0m\u001b[1;33m.\u001b[0m\u001b[0mdrop\u001b[0m\u001b[1;33m(\u001b[0m\u001b[1;33m[\u001b[0m\u001b[1;34m\"teamPosition\"\u001b[0m\u001b[1;33m]\u001b[0m\u001b[1;33m,\u001b[0m \u001b[0maxis\u001b[0m\u001b[1;33m=\u001b[0m\u001b[1;36m1\u001b[0m\u001b[1;33m)\u001b[0m\u001b[1;33m\u001b[0m\u001b[1;33m\u001b[0m\u001b[0m\n\u001b[0;32m      4\u001b[0m \u001b[1;31m# define the model\u001b[0m\u001b[1;33m\u001b[0m\u001b[1;33m\u001b[0m\u001b[1;33m\u001b[0m\u001b[0m\n\u001b[0;32m      5\u001b[0m \u001b[0mmodel\u001b[0m \u001b[1;33m=\u001b[0m \u001b[0mLogisticRegression\u001b[0m\u001b[1;33m(\u001b[0m\u001b[0mpenalty\u001b[0m\u001b[1;33m=\u001b[0m\u001b[1;34m'l2'\u001b[0m\u001b[1;33m)\u001b[0m\u001b[1;33m\u001b[0m\u001b[1;33m\u001b[0m\u001b[0m\n",
      "\u001b[1;32m~\\anaconda3\\lib\\site-packages\\pandas\\core\\generic.py\u001b[0m in \u001b[0;36m__getattr__\u001b[1;34m(self, name)\u001b[0m\n\u001b[0;32m   5137\u001b[0m             \u001b[1;32mif\u001b[0m \u001b[0mself\u001b[0m\u001b[1;33m.\u001b[0m\u001b[0m_info_axis\u001b[0m\u001b[1;33m.\u001b[0m\u001b[0m_can_hold_identifiers_and_holds_name\u001b[0m\u001b[1;33m(\u001b[0m\u001b[0mname\u001b[0m\u001b[1;33m)\u001b[0m\u001b[1;33m:\u001b[0m\u001b[1;33m\u001b[0m\u001b[1;33m\u001b[0m\u001b[0m\n\u001b[0;32m   5138\u001b[0m                 \u001b[1;32mreturn\u001b[0m \u001b[0mself\u001b[0m\u001b[1;33m[\u001b[0m\u001b[0mname\u001b[0m\u001b[1;33m]\u001b[0m\u001b[1;33m\u001b[0m\u001b[1;33m\u001b[0m\u001b[0m\n\u001b[1;32m-> 5139\u001b[1;33m             \u001b[1;32mreturn\u001b[0m \u001b[0mobject\u001b[0m\u001b[1;33m.\u001b[0m\u001b[0m__getattribute__\u001b[0m\u001b[1;33m(\u001b[0m\u001b[0mself\u001b[0m\u001b[1;33m,\u001b[0m \u001b[0mname\u001b[0m\u001b[1;33m)\u001b[0m\u001b[1;33m\u001b[0m\u001b[1;33m\u001b[0m\u001b[0m\n\u001b[0m\u001b[0;32m   5140\u001b[0m \u001b[1;33m\u001b[0m\u001b[0m\n\u001b[0;32m   5141\u001b[0m     \u001b[1;32mdef\u001b[0m \u001b[0m__setattr__\u001b[0m\u001b[1;33m(\u001b[0m\u001b[0mself\u001b[0m\u001b[1;33m,\u001b[0m \u001b[0mname\u001b[0m\u001b[1;33m:\u001b[0m \u001b[0mstr\u001b[0m\u001b[1;33m,\u001b[0m \u001b[0mvalue\u001b[0m\u001b[1;33m)\u001b[0m \u001b[1;33m->\u001b[0m \u001b[1;32mNone\u001b[0m\u001b[1;33m:\u001b[0m\u001b[1;33m\u001b[0m\u001b[1;33m\u001b[0m\u001b[0m\n",
      "\u001b[1;31mAttributeError\u001b[0m: 'DataFrame' object has no attribute 'win'"
     ]
    }
   ],
   "source": [
    "\n",
    "# define dataset\n",
    "y = data_top.win.astype('int')\n",
    "X = data_top.drop([\"teamPosition\", \"win\"], axis=1)\n",
    "# define the model\n",
    "model = LogisticRegression(penalty='l2')\n",
    "# fit the model\n",
    "model.fit(X, y)\n",
    "# get importance\n",
    "importance = model.coef_[0]\n",
    "\n",
    "feas = pd.DataFrame()\n",
    "feas['features'] = X.keys()\n",
    "feas['importance'] = importance\n",
    "feas = feas.sort_values(by='importance')\n",
    "\n",
    "feas1 = feas[0:95]\n",
    "feas2 = feas[95:191]\n",
    "\n",
    "plot.rc('font', size=10);\n",
    "fig, axes = plot.subplots(figsize=(11,17))\n",
    "axes.barh(np.arange(feas1.shape[0]), feas1.importance.values, alpha=0.8,color='orange')\n",
    "axes.set_title(\"feature importance\")\n",
    "axes.set_yticks(np.arange(feas1.shape[0]))\n",
    "axes.set_yticklabels(feas1.features.values, rotation='horizontal')\n",
    "\n",
    "plot.show()\n",
    "\n"
   ]
  },
  {
   "cell_type": "code",
   "execution_count": null,
   "metadata": {},
   "outputs": [],
   "source": [
    "fig, axes = plot.subplots(figsize=(11,17))\n",
    "axes.barh(np.arange(feas2.shape[0]), feas2.importance.values, alpha=0.8,color='orange')\n",
    "axes.set_title(\"feature importance\")\n",
    "axes.set_yticks(np.arange(feas2.shape[0]))\n",
    "axes.set_yticklabels(feas2.features.values, rotation='horizontal')\n",
    "plot.show()"
   ]
  },
  {
   "cell_type": "markdown",
   "metadata": {},
   "source": [
    "## Train test split and feature selection"
   ]
  },
  {
   "cell_type": "code",
   "execution_count": null,
   "metadata": {},
   "outputs": [],
   "source": [
    "y=data_top.win\n",
    "X = data_top[['damagePerMinute',\n",
    "            'bountyLevel', \n",
    "            'goldPerMinute',\n",
    "            'champExperience',\n",
    "            'visionScorePerMinute',\n",
    "            'turretTakedowns',\n",
    "            'kda',\n",
    "            'hadOpenNexus',\n",
    "            'turretsLost',\n",
    "            'visionScore',\n",
    "            'teamDamagePercentage',\n",
    "            'totalDamageDealtToChampions',\n",
    "            'killParticipation',\n",
    "            'goldSpent',\n",
    "            'physicalDamageDealtToChampions',\n",
    "            'jungleCsBefore10Minutes',]]\n",
    "Xtrain, Xtest, ytrain, ytest = train_test_split(X, y, test_size = 0.2,stratify=y)\n",
    "'''\"goldSpent\", \"gameLength\",\"timePlayed\",\"longestTimeSpentLiving\",\"bountyGold\",\"goldEarned\",\"champExperience\",\n",
    "              \"summonerLevel\",\"damageDealtToTurrets\",\"damageDealtToBuildings\",\"damageDealtToObjectives\",\"totalHealsOnTeammates\"\n",
    "             ,\"totalDamageTaken\",\"totalDamageShieldedOnTeammates\",\"totalHeal\",\"totalDamageDealtToChampions\"'''"
   ]
  },
  {
   "cell_type": "markdown",
   "metadata": {},
   "source": [
    "## Baseline model - most common case"
   ]
  },
  {
   "cell_type": "code",
   "execution_count": null,
   "metadata": {
    "scrolled": true
   },
   "outputs": [],
   "source": [
    "dummy = DummyClassifier(strategy='most_frequent').fit(Xtrain, ytrain)\n",
    "ydummy = dummy.predict(Xtest)\n",
    "print(confusion_matrix(ytest, ydummy))\n",
    "print(classification_report(ytest, ydummy))"
   ]
  },
  {
   "cell_type": "markdown",
   "metadata": {},
   "source": [
    "## hyperparameter tuning and cross valiadation - Logistic Classifier(L2)"
   ]
  },
  {
   "cell_type": "code",
   "execution_count": null,
   "metadata": {},
   "outputs": [],
   "source": [
    "#cross-validation to select the weight C given to the penalty in the cost function.\n",
    "mean_error=[]\n",
    "std_error=[]\n",
    "Ci_range = [0.01, 0.1, 1, 5, 10, 25, 50, 100]\n",
    "for Ci in Ci_range:\n",
    " model = LogisticRegression(C=Ci,penalty='l2');\n",
    " scores = cross_val_score(model,Xtrain, ytrain, cv=5, scoring='f1')\n",
    " mean_error.append(np.array(scores).mean())\n",
    " std_error.append(np.array(scores).std())\n",
    "plot.rc('font', size=18); plot.rcParams['figure.constrained_layout.use'] = True\n",
    "plot.errorbar(Ci_range,mean_error,yerr=std_error,linewidth=3)\n",
    "plot.title(\"penalty parameter vs F1 score\",fontsize=18,pad=20)\n",
    "plot.xlabel('Ci'); plot.ylabel('F1 Score')\n",
    "plot.show()"
   ]
  },
  {
   "cell_type": "markdown",
   "metadata": {},
   "source": [
    "## logistic classifier penalty l2 C=1"
   ]
  },
  {
   "cell_type": "code",
   "execution_count": null,
   "metadata": {},
   "outputs": [],
   "source": [
    "lr = LogisticRegression(penalty='l2',C=1,solver='lbfgs')\n",
    "lr.fit(Xtrain,ytrain)\n",
    "y_pred = lr.predict(Xtest)\n",
    "print(confusion_matrix(ytest, y_pred))\n",
    "print(classification_report(ytest, y_pred))\n"
   ]
  },
  {
   "cell_type": "markdown",
   "metadata": {},
   "source": [
    "## hyperparameter tuning and cross valiadation - Linear SVM"
   ]
  },
  {
   "cell_type": "code",
   "execution_count": null,
   "metadata": {},
   "outputs": [],
   "source": [
    "#cross-validation to select the weight C given to the penalty in the cost function.\n",
    "mean_error=[]\n",
    "std_error=[]\n",
    "Ci_range = [0.01, 0.1, 1, 5, 10, 25, 50, 100]\n",
    "for Ci in Ci_range:\n",
    " model = LinearSVC(C=Ci);\n",
    " scores = cross_val_score(model,Xtrain, ytrain, cv=5, scoring='f1')\n",
    " mean_error.append(np.array(scores).mean())\n",
    " std_error.append(np.array(scores).std())\n",
    "plot.rc('font', size=18); plot.rcParams['figure.constrained_layout.use'] = True\n",
    "plot.errorbar(Ci_range,mean_error,yerr=std_error,linewidth=3)\n",
    "plot.title(\"penalty parameter vs F1 score\",fontsize=18,pad=20)\n",
    "plot.xlabel('Ci'); plot.ylabel('F1 Score')\n",
    "plot.show()"
   ]
  },
  {
   "cell_type": "markdown",
   "metadata": {},
   "source": [
    "## Linear SVM C=1"
   ]
  },
  {
   "cell_type": "code",
   "execution_count": 101,
   "metadata": {},
   "outputs": [
    {
     "name": "stdout",
     "output_type": "stream",
     "text": [
      "[[1172    0]\n",
      " [1151   21]]\n",
      "              precision    recall  f1-score   support\n",
      "\n",
      "           0       0.50      1.00      0.67      1172\n",
      "           1       1.00      0.02      0.04      1172\n",
      "\n",
      "    accuracy                           0.51      2344\n",
      "   macro avg       0.75      0.51      0.35      2344\n",
      "weighted avg       0.75      0.51      0.35      2344\n",
      "\n"
     ]
    }
   ],
   "source": [
    "svm = LinearSVC(C=1)\n",
    "svm.fit(Xtrain,ytrain)\n",
    "y_pred1 = svm.predict(Xtest)\n",
    "print(confusion_matrix(ytest, y_pred1))\n",
    "print(classification_report(ytest, y_pred1))"
   ]
  },
  {
   "cell_type": "markdown",
   "metadata": {},
   "source": [
    "## ROC curve"
   ]
  },
  {
   "cell_type": "code",
   "execution_count": 102,
   "metadata": {},
   "outputs": [
    {
     "data": {
      "image/png": "[encoded data removed]",
      "text/plain": [
       "<Figure size 432x288 with 1 Axes>"
      ]
     },
     "metadata": {
      "needs_background": "light"
     },
     "output_type": "display_data"
    }
   ],
   "source": [
    "fpr, tpr, _ = roc_curve(ytest,lr.decision_function(Xtest))\n",
    "plot.plot(fpr,tpr)\n",
    "fpr1, tpr1, _ = roc_curve(ytest,svm.decision_function(Xtest))\n",
    "plot.plot(fpr1,tpr1)\n",
    "fpr2, tpr2, _ = roc_curve(ytest,ydummy)\n",
    "plot.title(\"ROC curve\",fontsize=18,pad=20)\n",
    "plot.plot(fpr2,tpr2,color='green',linestyle='--')\n",
    "plot.xlabel('False positive rate')\n",
    "plot.ylabel('True positive rate')\n",
    "plot.legend([\"logistic\",\"linearSVM\", \"dummy\"]) \n",
    "plot.show()"
   ]
  },
  {
   "cell_type": "code",
   "execution_count": null,
   "metadata": {},
   "outputs": [],
   "source": []
  },
  {
   "cell_type": "code",
   "execution_count": null,
   "metadata": {},
   "outputs": [],
   "source": []
  }
 ],
 "metadata": {
  "kernelspec": {
   "display_name": "Python 3",
   "language": "python",
   "name": "python3"
  },
  "language_info": {
   "codemirror_mode": {
    "name": "ipython",
    "version": 3
   },
   "file_extension": ".py",
   "mimetype": "text/x-python",
   "name": "python",
   "nbconvert_exporter": "python",
   "pygments_lexer": "ipython3",
   "version": "3.8.5"
  }
 },
 "nbformat": 4,
 "nbformat_minor": 4
}
